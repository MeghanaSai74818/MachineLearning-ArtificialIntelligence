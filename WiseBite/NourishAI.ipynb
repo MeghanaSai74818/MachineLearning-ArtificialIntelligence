{
  "nbformat": 4,
  "nbformat_minor": 0,
  "metadata": {
    "colab": {
      "provenance": []
    },
    "kernelspec": {
      "name": "python3",
      "display_name": "Python 3"
    },
    "language_info": {
      "name": "python"
    }
  },
  "cells": [
    {
      "cell_type": "code",
      "execution_count": 1,
      "metadata": {
        "id": "2qQLiz0_ltoK",
        "colab": {
          "base_uri": "https://localhost:8080/"
        },
        "outputId": "c67a295f-be07-4814-fe27-ab89feb198de"
      },
      "outputs": [
        {
          "output_type": "stream",
          "name": "stdout",
          "text": [
            "Looking in indexes: https://pypi.org/simple, https://us-python.pkg.dev/colab-wheels/public/simple/\n",
            "Collecting pinecone-client\n",
            "  Downloading pinecone_client-2.2.2-py3-none-any.whl (179 kB)\n",
            "\u001b[2K     \u001b[90m━━━━━━━━━━━━━━━━━━━━━━━━━━━━━━━━━━━━━━━\u001b[0m \u001b[32m179.1/179.1 kB\u001b[0m \u001b[31m7.0 MB/s\u001b[0m eta \u001b[36m0:00:00\u001b[0m\n",
            "\u001b[?25hCollecting langchain\n",
            "  Downloading langchain-0.0.197-py3-none-any.whl (1.0 MB)\n",
            "\u001b[2K     \u001b[90m━━━━━━━━━━━━━━━━━━━━━━━━━━━━━━━━━━━━━━━━\u001b[0m \u001b[32m1.0/1.0 MB\u001b[0m \u001b[31m34.9 MB/s\u001b[0m eta \u001b[36m0:00:00\u001b[0m\n",
            "\u001b[?25hCollecting openai\n",
            "  Downloading openai-0.27.8-py3-none-any.whl (73 kB)\n",
            "\u001b[2K     \u001b[90m━━━━━━━━━━━━━━━━━━━━━━━━━━━━━━━━━━━━━━━━\u001b[0m \u001b[32m73.6/73.6 kB\u001b[0m \u001b[31m8.6 MB/s\u001b[0m eta \u001b[36m0:00:00\u001b[0m\n",
            "\u001b[?25hCollecting wikipedia\n",
            "  Downloading wikipedia-1.4.0.tar.gz (27 kB)\n",
            "  Preparing metadata (setup.py) ... \u001b[?25l\u001b[?25hdone\n",
            "Requirement already satisfied: google-api-python-client in /usr/local/lib/python3.10/dist-packages (2.84.0)\n",
            "Collecting unstructured\n",
            "  Downloading unstructured-0.7.3-py3-none-any.whl (1.3 MB)\n",
            "\u001b[2K     \u001b[90m━━━━━━━━━━━━━━━━━━━━━━━━━━━━━━━━━━━━━━━━\u001b[0m \u001b[32m1.3/1.3 MB\u001b[0m \u001b[31m44.8 MB/s\u001b[0m eta \u001b[36m0:00:00\u001b[0m\n",
            "\u001b[?25hRequirement already satisfied: tabulate in /usr/local/lib/python3.10/dist-packages (0.8.10)\n",
            "Collecting pdf2image\n",
            "  Downloading pdf2image-1.16.3-py3-none-any.whl (11 kB)\n",
            "Collecting python-dotenv\n",
            "  Downloading python_dotenv-1.0.0-py3-none-any.whl (19 kB)\n",
            "Collecting tiktoken\n",
            "  Downloading tiktoken-0.4.0-cp310-cp310-manylinux_2_17_x86_64.manylinux2014_x86_64.whl (1.7 MB)\n",
            "\u001b[2K     \u001b[90m━━━━━━━━━━━━━━━━━━━━━━━━━━━━━━━━━━━━━━━━\u001b[0m \u001b[32m1.7/1.7 MB\u001b[0m \u001b[31m50.0 MB/s\u001b[0m eta \u001b[36m0:00:00\u001b[0m\n",
            "\u001b[?25hRequirement already satisfied: requests>=2.19.0 in /usr/local/lib/python3.10/dist-packages (from pinecone-client) (2.27.1)\n",
            "Requirement already satisfied: pyyaml>=5.4 in /usr/local/lib/python3.10/dist-packages (from pinecone-client) (6.0)\n",
            "Collecting loguru>=0.5.0 (from pinecone-client)\n",
            "  Downloading loguru-0.7.0-py3-none-any.whl (59 kB)\n",
            "\u001b[2K     \u001b[90m━━━━━━━━━━━━━━━━━━━━━━━━━━━━━━━━━━━━━━━━\u001b[0m \u001b[32m60.0/60.0 kB\u001b[0m \u001b[31m5.4 MB/s\u001b[0m eta \u001b[36m0:00:00\u001b[0m\n",
            "\u001b[?25hRequirement already satisfied: typing-extensions>=3.7.4 in /usr/local/lib/python3.10/dist-packages (from pinecone-client) (4.5.0)\n",
            "Collecting dnspython>=2.0.0 (from pinecone-client)\n",
            "  Downloading dnspython-2.3.0-py3-none-any.whl (283 kB)\n",
            "\u001b[2K     \u001b[90m━━━━━━━━━━━━━━━━━━━━━━━━━━━━━━━━━━━━━━\u001b[0m \u001b[32m283.7/283.7 kB\u001b[0m \u001b[31m14.5 MB/s\u001b[0m eta \u001b[36m0:00:00\u001b[0m\n",
            "\u001b[?25hRequirement already satisfied: python-dateutil>=2.5.3 in /usr/local/lib/python3.10/dist-packages (from pinecone-client) (2.8.2)\n",
            "Requirement already satisfied: urllib3>=1.21.1 in /usr/local/lib/python3.10/dist-packages (from pinecone-client) (1.26.15)\n",
            "Requirement already satisfied: tqdm>=4.64.1 in /usr/local/lib/python3.10/dist-packages (from pinecone-client) (4.65.0)\n",
            "Requirement already satisfied: numpy>=1.22.0 in /usr/local/lib/python3.10/dist-packages (from pinecone-client) (1.22.4)\n",
            "Requirement already satisfied: SQLAlchemy<3,>=1.4 in /usr/local/lib/python3.10/dist-packages (from langchain) (2.0.10)\n",
            "Collecting aiohttp<4.0.0,>=3.8.3 (from langchain)\n",
            "  Downloading aiohttp-3.8.4-cp310-cp310-manylinux_2_17_x86_64.manylinux2014_x86_64.whl (1.0 MB)\n",
            "\u001b[2K     \u001b[90m━━━━━━━━━━━━━━━━━━━━━━━━━━━━━━━━━━━━━━━━\u001b[0m \u001b[32m1.0/1.0 MB\u001b[0m \u001b[31m66.5 MB/s\u001b[0m eta \u001b[36m0:00:00\u001b[0m\n",
            "\u001b[?25hCollecting async-timeout<5.0.0,>=4.0.0 (from langchain)\n",
            "  Downloading async_timeout-4.0.2-py3-none-any.whl (5.8 kB)\n",
            "Collecting dataclasses-json<0.6.0,>=0.5.7 (from langchain)\n",
            "  Downloading dataclasses_json-0.5.8-py3-none-any.whl (26 kB)\n",
            "Collecting langchainplus-sdk>=0.0.7 (from langchain)\n",
            "  Downloading langchainplus_sdk-0.0.8-py3-none-any.whl (22 kB)\n",
            "Requirement already satisfied: numexpr<3.0.0,>=2.8.4 in /usr/local/lib/python3.10/dist-packages (from langchain) (2.8.4)\n",
            "Collecting openapi-schema-pydantic<2.0,>=1.2 (from langchain)\n",
            "  Downloading openapi_schema_pydantic-1.2.4-py3-none-any.whl (90 kB)\n",
            "\u001b[2K     \u001b[90m━━━━━━━━━━━━━━━━━━━━━━━━━━━━━━━━━━━━━━━━\u001b[0m \u001b[32m90.0/90.0 kB\u001b[0m \u001b[31m10.4 MB/s\u001b[0m eta \u001b[36m0:00:00\u001b[0m\n",
            "\u001b[?25hRequirement already satisfied: pydantic<2,>=1 in /usr/local/lib/python3.10/dist-packages (from langchain) (1.10.7)\n",
            "Requirement already satisfied: tenacity<9.0.0,>=8.1.0 in /usr/local/lib/python3.10/dist-packages (from langchain) (8.2.2)\n",
            "Requirement already satisfied: beautifulsoup4 in /usr/local/lib/python3.10/dist-packages (from wikipedia) (4.11.2)\n",
            "Requirement already satisfied: httplib2<1dev,>=0.15.0 in /usr/local/lib/python3.10/dist-packages (from google-api-python-client) (0.21.0)\n",
            "Requirement already satisfied: google-auth<3.0.0dev,>=1.19.0 in /usr/local/lib/python3.10/dist-packages (from google-api-python-client) (2.17.3)\n",
            "Requirement already satisfied: google-auth-httplib2>=0.1.0 in /usr/local/lib/python3.10/dist-packages (from google-api-python-client) (0.1.0)\n",
            "Requirement already satisfied: google-api-core!=2.0.*,!=2.1.*,!=2.2.*,!=2.3.0,<3.0.0dev,>=1.31.5 in /usr/local/lib/python3.10/dist-packages (from google-api-python-client) (2.11.0)\n",
            "Requirement already satisfied: uritemplate<5,>=3.0.1 in /usr/local/lib/python3.10/dist-packages (from google-api-python-client) (4.1.1)\n",
            "Collecting argilla (from unstructured)\n",
            "  Downloading argilla-1.9.0-py3-none-any.whl (2.5 MB)\n",
            "\u001b[2K     \u001b[90m━━━━━━━━━━━━━━━━━━━━━━━━━━━━━━━━━━━━━━━━\u001b[0m \u001b[32m2.5/2.5 MB\u001b[0m \u001b[31m69.1 MB/s\u001b[0m eta \u001b[36m0:00:00\u001b[0m\n",
            "\u001b[?25hRequirement already satisfied: chardet in /usr/local/lib/python3.10/dist-packages (from unstructured) (4.0.0)\n",
            "Requirement already satisfied: lxml in /usr/local/lib/python3.10/dist-packages (from unstructured) (4.9.2)\n",
            "Collecting msg-parser (from unstructured)\n",
            "  Downloading msg_parser-1.2.0-py2.py3-none-any.whl (101 kB)\n",
            "\u001b[2K     \u001b[90m━━━━━━━━━━━━━━━━━━━━━━━━━━━━━━━━━━━━━━━\u001b[0m \u001b[32m101.8/101.8 kB\u001b[0m \u001b[31m9.8 MB/s\u001b[0m eta \u001b[36m0:00:00\u001b[0m\n",
            "\u001b[?25hRequirement already satisfied: nltk in /usr/local/lib/python3.10/dist-packages (from unstructured) (3.8.1)\n",
            "Requirement already satisfied: openpyxl in /usr/local/lib/python3.10/dist-packages (from unstructured) (3.0.10)\n",
            "Requirement already satisfied: pandas in /usr/local/lib/python3.10/dist-packages (from unstructured) (1.5.3)\n",
            "Collecting pdfminer.six (from unstructured)\n",
            "  Downloading pdfminer.six-20221105-py3-none-any.whl (5.6 MB)\n",
            "\u001b[2K     \u001b[90m━━━━━━━━━━━━━━━━━━━━━━━━━━━━━━━━━━━━━━━━\u001b[0m \u001b[32m5.6/5.6 MB\u001b[0m \u001b[31m100.2 MB/s\u001b[0m eta \u001b[36m0:00:00\u001b[0m\n",
            "\u001b[?25hRequirement already satisfied: pillow in /usr/local/lib/python3.10/dist-packages (from unstructured) (8.4.0)\n",
            "Collecting pypandoc (from unstructured)\n",
            "  Downloading pypandoc-1.11-py3-none-any.whl (20 kB)\n",
            "Collecting python-docx (from unstructured)\n",
            "  Downloading python-docx-0.8.11.tar.gz (5.6 MB)\n",
            "\u001b[2K     \u001b[90m━━━━━━━━━━━━━━━━━━━━━━━━━━━━━━━━━━━━━━━━\u001b[0m \u001b[32m5.6/5.6 MB\u001b[0m \u001b[31m96.6 MB/s\u001b[0m eta \u001b[36m0:00:00\u001b[0m\n",
            "\u001b[?25h  Preparing metadata (setup.py) ... \u001b[?25l\u001b[?25hdone\n",
            "Collecting python-pptx (from unstructured)\n",
            "  Downloading python-pptx-0.6.21.tar.gz (10.1 MB)\n",
            "\u001b[2K     \u001b[90m━━━━━━━━━━━━━━━━━━━━━━━━━━━━━━━━━━━━━━━━\u001b[0m \u001b[32m10.1/10.1 MB\u001b[0m \u001b[31m48.7 MB/s\u001b[0m eta \u001b[36m0:00:00\u001b[0m\n",
            "\u001b[?25h  Preparing metadata (setup.py) ... \u001b[?25l\u001b[?25hdone\n",
            "Collecting python-magic (from unstructured)\n",
            "  Downloading python_magic-0.4.27-py2.py3-none-any.whl (13 kB)\n",
            "Requirement already satisfied: markdown in /usr/local/lib/python3.10/dist-packages (from unstructured) (3.4.3)\n",
            "Requirement already satisfied: xlrd in /usr/local/lib/python3.10/dist-packages (from unstructured) (2.0.1)\n",
            "Requirement already satisfied: regex>=2022.1.18 in /usr/local/lib/python3.10/dist-packages (from tiktoken) (2022.10.31)\n",
            "Requirement already satisfied: attrs>=17.3.0 in /usr/local/lib/python3.10/dist-packages (from aiohttp<4.0.0,>=3.8.3->langchain) (23.1.0)\n",
            "Requirement already satisfied: charset-normalizer<4.0,>=2.0 in /usr/local/lib/python3.10/dist-packages (from aiohttp<4.0.0,>=3.8.3->langchain) (2.0.12)\n",
            "Collecting multidict<7.0,>=4.5 (from aiohttp<4.0.0,>=3.8.3->langchain)\n",
            "  Downloading multidict-6.0.4-cp310-cp310-manylinux_2_17_x86_64.manylinux2014_x86_64.whl (114 kB)\n",
            "\u001b[2K     \u001b[90m━━━━━━━━━━━━━━━━━━━━━━━━━━━━━━━━━━━━━\u001b[0m \u001b[32m114.5/114.5 kB\u001b[0m \u001b[31m681.6 kB/s\u001b[0m eta \u001b[36m0:00:00\u001b[0m\n",
            "\u001b[?25hCollecting yarl<2.0,>=1.0 (from aiohttp<4.0.0,>=3.8.3->langchain)\n",
            "  Downloading yarl-1.9.2-cp310-cp310-manylinux_2_17_x86_64.manylinux2014_x86_64.whl (268 kB)\n",
            "\u001b[2K     \u001b[90m━━━━━━━━━━━━━━━━━━━━━━━━━━━━━━━━━━━━━━\u001b[0m \u001b[32m268.8/268.8 kB\u001b[0m \u001b[31m21.2 MB/s\u001b[0m eta \u001b[36m0:00:00\u001b[0m\n",
            "\u001b[?25hCollecting frozenlist>=1.1.1 (from aiohttp<4.0.0,>=3.8.3->langchain)\n",
            "  Downloading frozenlist-1.3.3-cp310-cp310-manylinux_2_5_x86_64.manylinux1_x86_64.manylinux_2_17_x86_64.manylinux2014_x86_64.whl (149 kB)\n",
            "\u001b[2K     \u001b[90m━━━━━━━━━━━━━━━━━━━━━━━━━━━━━━━━━━━━━━\u001b[0m \u001b[32m149.6/149.6 kB\u001b[0m \u001b[31m14.1 MB/s\u001b[0m eta \u001b[36m0:00:00\u001b[0m\n",
            "\u001b[?25hCollecting aiosignal>=1.1.2 (from aiohttp<4.0.0,>=3.8.3->langchain)\n",
            "  Downloading aiosignal-1.3.1-py3-none-any.whl (7.6 kB)\n",
            "Collecting marshmallow<4.0.0,>=3.3.0 (from dataclasses-json<0.6.0,>=0.5.7->langchain)\n",
            "  Downloading marshmallow-3.19.0-py3-none-any.whl (49 kB)\n",
            "\u001b[2K     \u001b[90m━━━━━━━━━━━━━━━━━━━━━━━━━━━━━━━━━━━━━━━━\u001b[0m \u001b[32m49.1/49.1 kB\u001b[0m \u001b[31m3.4 MB/s\u001b[0m eta \u001b[36m0:00:00\u001b[0m\n",
            "\u001b[?25hCollecting marshmallow-enum<2.0.0,>=1.5.1 (from dataclasses-json<0.6.0,>=0.5.7->langchain)\n",
            "  Downloading marshmallow_enum-1.5.1-py2.py3-none-any.whl (4.2 kB)\n",
            "Collecting typing-inspect>=0.4.0 (from dataclasses-json<0.6.0,>=0.5.7->langchain)\n",
            "  Downloading typing_inspect-0.9.0-py3-none-any.whl (8.8 kB)\n",
            "Requirement already satisfied: googleapis-common-protos<2.0dev,>=1.56.2 in /usr/local/lib/python3.10/dist-packages (from google-api-core!=2.0.*,!=2.1.*,!=2.2.*,!=2.3.0,<3.0.0dev,>=1.31.5->google-api-python-client) (1.59.0)\n",
            "Requirement already satisfied: protobuf!=3.20.0,!=3.20.1,!=4.21.0,!=4.21.1,!=4.21.2,!=4.21.3,!=4.21.4,!=4.21.5,<5.0.0dev,>=3.19.5 in /usr/local/lib/python3.10/dist-packages (from google-api-core!=2.0.*,!=2.1.*,!=2.2.*,!=2.3.0,<3.0.0dev,>=1.31.5->google-api-python-client) (3.20.3)\n",
            "Requirement already satisfied: cachetools<6.0,>=2.0.0 in /usr/local/lib/python3.10/dist-packages (from google-auth<3.0.0dev,>=1.19.0->google-api-python-client) (5.3.0)\n",
            "Requirement already satisfied: pyasn1-modules>=0.2.1 in /usr/local/lib/python3.10/dist-packages (from google-auth<3.0.0dev,>=1.19.0->google-api-python-client) (0.3.0)\n",
            "Requirement already satisfied: six>=1.9.0 in /usr/local/lib/python3.10/dist-packages (from google-auth<3.0.0dev,>=1.19.0->google-api-python-client) (1.16.0)\n",
            "Requirement already satisfied: rsa<5,>=3.1.4 in /usr/local/lib/python3.10/dist-packages (from google-auth<3.0.0dev,>=1.19.0->google-api-python-client) (4.9)\n",
            "Requirement already satisfied: pyparsing!=3.0.0,!=3.0.1,!=3.0.2,!=3.0.3,<4,>=2.4.2 in /usr/local/lib/python3.10/dist-packages (from httplib2<1dev,>=0.15.0->google-api-python-client) (3.0.9)\n",
            "Requirement already satisfied: certifi>=2017.4.17 in /usr/local/lib/python3.10/dist-packages (from requests>=2.19.0->pinecone-client) (2022.12.7)\n",
            "Requirement already satisfied: idna<4,>=2.5 in /usr/local/lib/python3.10/dist-packages (from requests>=2.19.0->pinecone-client) (3.4)\n",
            "Requirement already satisfied: greenlet!=0.4.17 in /usr/local/lib/python3.10/dist-packages (from SQLAlchemy<3,>=1.4->langchain) (2.0.2)\n",
            "Collecting httpx<0.24,>=0.15 (from argilla->unstructured)\n",
            "  Downloading httpx-0.23.3-py3-none-any.whl (71 kB)\n",
            "\u001b[2K     \u001b[90m━━━━━━━━━━━━━━━━━━━━━━━━━━━━━━━━━━━━━━━━\u001b[0m \u001b[32m71.5/71.5 kB\u001b[0m \u001b[31m7.8 MB/s\u001b[0m eta \u001b[36m0:00:00\u001b[0m\n",
            "\u001b[?25hCollecting deprecated~=1.2.0 (from argilla->unstructured)\n",
            "  Downloading Deprecated-1.2.14-py2.py3-none-any.whl (9.6 kB)\n",
            "Requirement already satisfied: packaging>=20.0 in /usr/local/lib/python3.10/dist-packages (from argilla->unstructured) (23.1)\n",
            "Requirement already satisfied: wrapt<1.15,>=1.13 in /usr/local/lib/python3.10/dist-packages (from argilla->unstructured) (1.14.1)\n",
            "Collecting backoff (from argilla->unstructured)\n",
            "  Downloading backoff-2.2.1-py3-none-any.whl (15 kB)\n",
            "Collecting monotonic (from argilla->unstructured)\n",
            "  Downloading monotonic-1.6-py2.py3-none-any.whl (8.2 kB)\n",
            "Collecting rich<=13.0.1 (from argilla->unstructured)\n",
            "  Downloading rich-13.0.1-py3-none-any.whl (238 kB)\n",
            "\u001b[2K     \u001b[90m━━━━━━━━━━━━━━━━━━━━━━━━━━━━━━━━━━━━━━\u001b[0m \u001b[32m238.1/238.1 kB\u001b[0m \u001b[31m26.7 MB/s\u001b[0m eta \u001b[36m0:00:00\u001b[0m\n",
            "\u001b[?25hRequirement already satisfied: typer<1.0.0,>=0.6.0 in /usr/local/lib/python3.10/dist-packages (from argilla->unstructured) (0.7.0)\n",
            "Requirement already satisfied: pytz>=2020.1 in /usr/local/lib/python3.10/dist-packages (from pandas->unstructured) (2022.7.1)\n",
            "Requirement already satisfied: soupsieve>1.2 in /usr/local/lib/python3.10/dist-packages (from beautifulsoup4->wikipedia) (2.4.1)\n",
            "Collecting olefile>=0.46 (from msg-parser->unstructured)\n",
            "  Downloading olefile-0.46.zip (112 kB)\n",
            "\u001b[2K     \u001b[90m━━━━━━━━━━━━━━━━━━━━━━━━━━━━━━━━━━━━━━\u001b[0m \u001b[32m112.2/112.2 kB\u001b[0m \u001b[31m14.4 MB/s\u001b[0m eta \u001b[36m0:00:00\u001b[0m\n",
            "\u001b[?25h  Preparing metadata (setup.py) ... \u001b[?25l\u001b[?25hdone\n",
            "Requirement already satisfied: click in /usr/local/lib/python3.10/dist-packages (from nltk->unstructured) (8.1.3)\n",
            "Requirement already satisfied: joblib in /usr/local/lib/python3.10/dist-packages (from nltk->unstructured) (1.2.0)\n",
            "Requirement already satisfied: et-xmlfile in /usr/local/lib/python3.10/dist-packages (from openpyxl->unstructured) (1.1.0)\n",
            "Requirement already satisfied: cryptography>=36.0.0 in /usr/local/lib/python3.10/dist-packages (from pdfminer.six->unstructured) (40.0.2)\n",
            "Collecting XlsxWriter>=0.5.7 (from python-pptx->unstructured)\n",
            "  Downloading XlsxWriter-3.1.2-py3-none-any.whl (153 kB)\n",
            "\u001b[2K     \u001b[90m━━━━━━━━━━━━━━━━━━━━━━━━━━━━━━━━━━━━━━\u001b[0m \u001b[32m153.0/153.0 kB\u001b[0m \u001b[31m18.5 MB/s\u001b[0m eta \u001b[36m0:00:00\u001b[0m\n",
            "\u001b[?25hRequirement already satisfied: cffi>=1.12 in /usr/local/lib/python3.10/dist-packages (from cryptography>=36.0.0->pdfminer.six->unstructured) (1.15.1)\n",
            "Collecting httpcore<0.17.0,>=0.15.0 (from httpx<0.24,>=0.15->argilla->unstructured)\n",
            "  Downloading httpcore-0.16.3-py3-none-any.whl (69 kB)\n",
            "\u001b[2K     \u001b[90m━━━━━━━━━━━━━━━━━━━━━━━━━━━━━━━━━━━━━━━━\u001b[0m \u001b[32m69.6/69.6 kB\u001b[0m \u001b[31m9.2 MB/s\u001b[0m eta \u001b[36m0:00:00\u001b[0m\n",
            "\u001b[?25hCollecting rfc3986[idna2008]<2,>=1.3 (from httpx<0.24,>=0.15->argilla->unstructured)\n",
            "  Downloading rfc3986-1.5.0-py2.py3-none-any.whl (31 kB)\n",
            "Requirement already satisfied: sniffio in /usr/local/lib/python3.10/dist-packages (from httpx<0.24,>=0.15->argilla->unstructured) (1.3.0)\n",
            "Requirement already satisfied: pyasn1<0.6.0,>=0.4.6 in /usr/local/lib/python3.10/dist-packages (from pyasn1-modules>=0.2.1->google-auth<3.0.0dev,>=1.19.0->google-api-python-client) (0.5.0)\n",
            "Collecting commonmark<0.10.0,>=0.9.0 (from rich<=13.0.1->argilla->unstructured)\n",
            "  Downloading commonmark-0.9.1-py2.py3-none-any.whl (51 kB)\n",
            "\u001b[2K     \u001b[90m━━━━━━━━━━━━━━━━━━━━━━━━━━━━━━━━━━━━━━━━\u001b[0m \u001b[32m51.1/51.1 kB\u001b[0m \u001b[31m6.7 MB/s\u001b[0m eta \u001b[36m0:00:00\u001b[0m\n",
            "\u001b[?25hRequirement already satisfied: pygments<3.0.0,>=2.6.0 in /usr/local/lib/python3.10/dist-packages (from rich<=13.0.1->argilla->unstructured) (2.14.0)\n",
            "Collecting mypy-extensions>=0.3.0 (from typing-inspect>=0.4.0->dataclasses-json<0.6.0,>=0.5.7->langchain)\n",
            "  Downloading mypy_extensions-1.0.0-py3-none-any.whl (4.7 kB)\n",
            "Requirement already satisfied: pycparser in /usr/local/lib/python3.10/dist-packages (from cffi>=1.12->cryptography>=36.0.0->pdfminer.six->unstructured) (2.21)\n",
            "Collecting h11<0.15,>=0.13 (from httpcore<0.17.0,>=0.15.0->httpx<0.24,>=0.15->argilla->unstructured)\n",
            "  Downloading h11-0.14.0-py3-none-any.whl (58 kB)\n",
            "\u001b[2K     \u001b[90m━━━━━━━━━━━━━━━━━━━━━━━━━━━━━━━━━━━━━━━━\u001b[0m \u001b[32m58.3/58.3 kB\u001b[0m \u001b[31m7.0 MB/s\u001b[0m eta \u001b[36m0:00:00\u001b[0m\n",
            "\u001b[?25hRequirement already satisfied: anyio<5.0,>=3.0 in /usr/local/lib/python3.10/dist-packages (from httpcore<0.17.0,>=0.15.0->httpx<0.24,>=0.15->argilla->unstructured) (3.6.2)\n",
            "Building wheels for collected packages: wikipedia, python-docx, python-pptx, olefile\n",
            "  Building wheel for wikipedia (setup.py) ... \u001b[?25l\u001b[?25hdone\n",
            "  Created wheel for wikipedia: filename=wikipedia-1.4.0-py3-none-any.whl size=11680 sha256=2fe2fb2408dbcd31123206ad533bb0f90cd081450988222654869529d9d2f6aa\n",
            "  Stored in directory: /root/.cache/pip/wheels/5e/b6/c5/93f3dec388ae76edc830cb42901bb0232504dfc0df02fc50de\n",
            "  Building wheel for python-docx (setup.py) ... \u001b[?25l\u001b[?25hdone\n",
            "  Created wheel for python-docx: filename=python_docx-0.8.11-py3-none-any.whl size=184491 sha256=d5cafa6b7597168829f8c7f330e6569fb2d178994f1dd82514e8e83e6c366a94\n",
            "  Stored in directory: /root/.cache/pip/wheels/80/27/06/837436d4c3bd989b957a91679966f207bfd71d358d63a8194d\n",
            "  Building wheel for python-pptx (setup.py) ... \u001b[?25l\u001b[?25hdone\n",
            "  Created wheel for python-pptx: filename=python_pptx-0.6.21-py3-none-any.whl size=470935 sha256=129cb7abd48ef28fbac15865a61bf231dc99061614063577bce9b004b38328a6\n",
            "  Stored in directory: /root/.cache/pip/wheels/ea/dd/74/01b3ec7256a0800b99384e9a0f7620e358afc3a51a59bf9b49\n",
            "  Building wheel for olefile (setup.py) ... \u001b[?25l\u001b[?25hdone\n",
            "  Created wheel for olefile: filename=olefile-0.46-py2.py3-none-any.whl size=35417 sha256=708a0deaf62aaae21be59e555bee9fbe3b0504c9f2e8483c3d68188060094a91\n",
            "  Stored in directory: /root/.cache/pip/wheels/02/39/c0/9eb1f7a42b4b38f6f333b6314d4ed11c46f12a0f7b78194f0d\n",
            "Successfully built wikipedia python-docx python-pptx olefile\n",
            "Installing collected packages: rfc3986, monotonic, commonmark, XlsxWriter, rich, python-magic, python-dotenv, python-docx, pypandoc, pdf2image, olefile, mypy-extensions, multidict, marshmallow, loguru, h11, frozenlist, dnspython, deprecated, backoff, async-timeout, yarl, wikipedia, typing-inspect, tiktoken, python-pptx, pinecone-client, openapi-schema-pydantic, msg-parser, marshmallow-enum, langchainplus-sdk, httpcore, aiosignal, pdfminer.six, httpx, dataclasses-json, aiohttp, openai, langchain, argilla, unstructured\n",
            "  Attempting uninstall: rich\n",
            "    Found existing installation: rich 13.3.4\n",
            "    Uninstalling rich-13.3.4:\n",
            "      Successfully uninstalled rich-13.3.4\n",
            "Successfully installed XlsxWriter-3.1.2 aiohttp-3.8.4 aiosignal-1.3.1 argilla-1.9.0 async-timeout-4.0.2 backoff-2.2.1 commonmark-0.9.1 dataclasses-json-0.5.8 deprecated-1.2.14 dnspython-2.3.0 frozenlist-1.3.3 h11-0.14.0 httpcore-0.16.3 httpx-0.23.3 langchain-0.0.197 langchainplus-sdk-0.0.8 loguru-0.7.0 marshmallow-3.19.0 marshmallow-enum-1.5.1 monotonic-1.6 msg-parser-1.2.0 multidict-6.0.4 mypy-extensions-1.0.0 olefile-0.46 openai-0.27.8 openapi-schema-pydantic-1.2.4 pdf2image-1.16.3 pdfminer.six-20221105 pinecone-client-2.2.2 pypandoc-1.11 python-docx-0.8.11 python-dotenv-1.0.0 python-magic-0.4.27 python-pptx-0.6.21 rfc3986-1.5.0 rich-13.0.1 tiktoken-0.4.0 typing-inspect-0.9.0 unstructured-0.7.3 wikipedia-1.4.0 yarl-1.9.2\n"
          ]
        }
      ],
      "source": [
        "! pip install pinecone-client langchain openai wikipedia google-api-python-client unstructured tabulate pdf2image python-dotenv tiktoken"
      ]
    },
    {
      "cell_type": "code",
      "source": [
        "from google.colab import drive\n",
        "\n",
        "drive.mount('/content/drive')\n",
        "directory_path = '/content/drive/MyDrive/Dataset/'"
      ],
      "metadata": {
        "colab": {
          "base_uri": "https://localhost:8080/"
        },
        "id": "XoP291KjRhw8",
        "outputId": "2f5b0939-7f89-488c-a7bd-1c6a8c2fbe04"
      },
      "execution_count": 2,
      "outputs": [
        {
          "output_type": "stream",
          "name": "stdout",
          "text": [
            "Mounted at /content/drive\n"
          ]
        }
      ]
    },
    {
      "cell_type": "code",
      "source": [
        "from langchain.document_loaders import DirectoryLoader\n",
        "\n",
        "docmnts = DirectoryLoader(directory_path, glob='**/*.pdf', show_progress=True).load()"
      ],
      "metadata": {
        "colab": {
          "base_uri": "https://localhost:8080/"
        },
        "id": "VuVJYsaEvJ5T",
        "outputId": "a949d4f1-ba25-4d55-bbc0-2aa83131df49"
      },
      "execution_count": 3,
      "outputs": [
        {
          "output_type": "stream",
          "name": "stderr",
          "text": [
            "\r  0%|          | 0/6 [00:00<?, ?it/s][nltk_data] Downloading package punkt to /root/nltk_data...\n",
            "[nltk_data]   Unzipping tokenizers/punkt.zip.\n",
            "[nltk_data] Downloading package averaged_perceptron_tagger to\n",
            "[nltk_data]     /root/nltk_data...\n",
            "[nltk_data]   Unzipping taggers/averaged_perceptron_tagger.zip.\n",
            "100%|██████████| 6/6 [00:23<00:00,  3.86s/it]\n"
          ]
        }
      ]
    },
    {
      "cell_type": "code",
      "source": [
        "from langchain.text_splitter import CharacterTextSplitter\n",
        "\n",
        "split_documnts = CharacterTextSplitter(chunk_size = 1000, chunk_overlap = 0).split_documents(docmnts)"
      ],
      "metadata": {
        "colab": {
          "base_uri": "https://localhost:8080/"
        },
        "id": "uTnAQOCYSje6",
        "outputId": "e48680be-d716-4833-95e6-8a5267d23795"
      },
      "execution_count": 4,
      "outputs": [
        {
          "output_type": "stream",
          "name": "stderr",
          "text": [
            "WARNING:langchain.text_splitter:Created a chunk of size 2554, which is longer than the specified 1000\n",
            "WARNING:langchain.text_splitter:Created a chunk of size 1504, which is longer than the specified 1000\n",
            "WARNING:langchain.text_splitter:Created a chunk of size 1175, which is longer than the specified 1000\n",
            "WARNING:langchain.text_splitter:Created a chunk of size 1206, which is longer than the specified 1000\n",
            "WARNING:langchain.text_splitter:Created a chunk of size 1581, which is longer than the specified 1000\n",
            "WARNING:langchain.text_splitter:Created a chunk of size 1047, which is longer than the specified 1000\n",
            "WARNING:langchain.text_splitter:Created a chunk of size 1856, which is longer than the specified 1000\n",
            "WARNING:langchain.text_splitter:Created a chunk of size 1324, which is longer than the specified 1000\n",
            "WARNING:langchain.text_splitter:Created a chunk of size 1028, which is longer than the specified 1000\n"
          ]
        }
      ]
    },
    {
      "cell_type": "code",
      "source": [
        "# import openai\n",
        "import os\n",
        "from dotenv import load_dotenv, find_dotenv\n",
        "_ = load_dotenv(find_dotenv()) # read local .env file\n",
        "\n",
        "openai_api_key = os.environ['OPENAI_API_KEY']\n",
        "pinecone_env = os.environ['PINECONE_ENV']\n",
        "pinecone_api_key = os.environ['PINECONE_API_KEY']"
      ],
      "metadata": {
        "id": "1737cSenURHG"
      },
      "execution_count": 60,
      "outputs": []
    },
    {
      "cell_type": "code",
      "source": [
        "import pinecone\n",
        "import tiktoken \n",
        "from langchain.vectorstores import Pinecone\n",
        "from langchain.embeddings.openai import OpenAIEmbeddings\n",
        "\n",
        "# we use the openAI embedding model\n",
        "embeddings = OpenAIEmbeddings()\n",
        "pinecone.init(api_key=pinecone_api_key, environment=pinecone_env)\n",
        "db_dcmnt = Pinecone.from_documents(split_documnts, embeddings, index_name='document-indexing')"
      ],
      "metadata": {
        "colab": {
          "base_uri": "https://localhost:8080/"
        },
        "id": "lcEtvbTFiboa",
        "outputId": "fca4555c-357b-47ec-a4d4-934c4dbc850e"
      },
      "execution_count": 7,
      "outputs": [
        {
          "output_type": "stream",
          "name": "stderr",
          "text": [
            "/usr/local/lib/python3.10/dist-packages/pinecone/index.py:4: TqdmExperimentalWarning: Using `tqdm.autonotebook.tqdm` in notebook mode. Use `tqdm.tqdm` instead to force console mode (e.g. in jupyter console)\n",
            "  from tqdm.autonotebook import tqdm\n"
          ]
        }
      ]
    },
    {
      "cell_type": "code",
      "source": [
        "query = \"What are the important nutrients?\"\n",
        "search_docs = db_dcmnt.similarity_search(query)\n",
        "search_docs"
      ],
      "metadata": {
        "colab": {
          "base_uri": "https://localhost:8080/"
        },
        "id": "cCmO-17dmvQS",
        "outputId": "7e08dcf7-dabe-4c4d-9a16-1b54fa1b7e0a"
      },
      "execution_count": 8,
      "outputs": [
        {
          "output_type": "execute_result",
          "data": {
            "text/plain": [
              "[Document(page_content='BASIC NUTRITION 101\\n\\nTo begin with, an understanding of the basic fundamentals of food and nutrition is essential for anyone who wants to maintain a healthful lifestyle or to remedy some bad habits that have resulted in the necessity to make lifestyle changes for health and for a more rewarding life overall. As we age, the body naturally ages along with us and systems that once worked so well when we were younger may encounter difficulties sustaining their vital functions at or near previous levels. Many of these things that affect the efficiency of our bodily functions are caused by us and the 2 biggest culprits are nutrition and fitness. The following is a very surface explanation of some of the most basic concepts of nutrition.\\n\\nMarco nutrients:\\n\\nCarbohydrates: There are 2 types of carbohydrates and 3 if you include fiber;\\n\\nhowever, since fiber contributes no actual nutrients, it is included for personal understanding. Protein: Fats: Saturated/ unsaturated/ polyunsaturated\\n\\n-', metadata={'source': '/content/drive/MyDrive/Dataset/Basic_Nutrition_101.pdf'}),\n",
              " Document(page_content='BASIC NUTRITION 101\\n\\nTo begin with, an understanding of the basic fundamentals of food and nutrition is essential for anyone who wants to maintain a healthful lifestyle or to remedy some bad habits that have resulted in the necessity to make lifestyle changes for health and for a more rewarding life overall. As we age, the body naturally ages along with us and systems that once worked so well when we were younger may encounter difficulties sustaining their vital functions at or near previous levels. Many of these things that affect the efficiency of our bodily functions are caused by us and the 2 biggest culprits are nutrition and fitness. The following is a very surface explanation of some of the most basic concepts of nutrition.\\n\\nMarco nutrients:\\n\\nCarbohydrates: There are 2 types of carbohydrates and 3 if you include fiber;\\n\\nhowever, since fiber contributes no actual nutrients, it is included for personal understanding. Protein: Fats: Saturated/ unsaturated/ polyunsaturated\\n\\n-', metadata={'source': '/content/drive/MyDrive/Dataset/Basic_Nutrition_101.pdf'}),\n",
              " Document(page_content='Satisfying appetite with sweets limits eating of vitamin-, mineral-, and protein-rich foods important to good health and function.\\n\\nLow fat dairy products and lean meat should be used or discretionary calories reduced.\\n\\n1\\n\\nA simple summary of food groups and good\\n\\nnutrition includes:\\n\\nGrains for carbohydrates and fiber. Brightly colored vegetables and fruits for\\n\\nvitamins, minerals, and fiber. Dairy for calcium and protein. Meats, legumes (beans), and nuts for\\n\\nproteins.\\n\\nFats (oils) scattered among the foods for\\n\\nessential fatty acids.\\n\\nIodized salt should be used in all food preparation, even if it costs more, to avoid goiters which occur in many parts of the world.\\n\\nSee Nutrition Calculations (14) to determine the appropriateness of your weight, your daily calorie (energy) needs, the number of servings of each food group required to meet those needs, and the sizes of those food servings.', metadata={'source': '/content/drive/MyDrive/Dataset/Nutrition_and_Diet.pdf'}),\n",
              " Document(page_content='Satisfying appetite with sweets limits eating of vitamin-, mineral-, and protein-rich foods important to good health and function.\\n\\nLow fat dairy products and lean meat should be used or discretionary calories reduced.\\n\\n1\\n\\nA simple summary of food groups and good\\n\\nnutrition includes:\\n\\nGrains for carbohydrates and fiber. Brightly colored vegetables and fruits for\\n\\nvitamins, minerals, and fiber. Dairy for calcium and protein. Meats, legumes (beans), and nuts for\\n\\nproteins.\\n\\nFats (oils) scattered among the foods for\\n\\nessential fatty acids.\\n\\nIodized salt should be used in all food preparation, even if it costs more, to avoid goiters which occur in many parts of the world.\\n\\nSee Nutrition Calculations (14) to determine the appropriateness of your weight, your daily calorie (energy) needs, the number of servings of each food group required to meet those needs, and the sizes of those food servings.', metadata={'source': '/content/drive/MyDrive/Dataset/12. Nutrition_and_Diet.pdf'})]"
            ]
          },
          "metadata": {},
          "execution_count": 8
        }
      ]
    },
    {
      "cell_type": "code",
      "source": [
        "from langchain import OpenAI, LLMChain\n",
        "from langchain.chains import RetrievalQA\n",
        "\n",
        "llm = OpenAI()\n",
        "qa = RetrievalQA.from_chain_type(llm=llm, chain_type='stuff', retriever=db_dcmnt.as_retriever(),)\n",
        "\n",
        "query = \"Which foods contain vitamin-a?\"\n",
        "result = qa.run(query)\n",
        "\n",
        "result"
      ],
      "metadata": {
        "colab": {
          "base_uri": "https://localhost:8080/",
          "height": 53
        },
        "id": "V8l50jtQ5nBF",
        "outputId": "e7cd7088-d577-4ced-b87d-d8da42a3fa80"
      },
      "execution_count": 10,
      "outputs": [
        {
          "output_type": "execute_result",
          "data": {
            "text/plain": [
              "' Fruits and vegetables that contain vitamin A include carrots, sweet potatoes, spinach, melons, oranges, orange juice, plums, raspberries, strawberries, and tangerines.'"
            ],
            "application/vnd.google.colaboratory.intrinsic+json": {
              "type": "string"
            }
          },
          "metadata": {},
          "execution_count": 10
        }
      ]
    },
    {
      "cell_type": "code",
      "source": [
        "from re import VERBOSE\n",
        "from langchain import OpenAI, LLMChain\n",
        "from langchain.chat_models import ChatOpenAI\n",
        "# adding an agent \n",
        "from langchain.agents import load_tools, initialize_agent, AgentType, Tool\n",
        "from langchain.memory import ConversationBufferMemory\n",
        "\n",
        "llm = OpenAI()\n",
        "memory = ConversationBufferMemory(memory_key='chat_history')\n",
        "\n",
        "tools = load_tools(['wikipedia'], llm=llm)\n",
        "\n",
        "agent = initialize_agent( tools, llm, agent= AgentType.ZERO_SHOT_REACT_DESCRIPTION, verbose= True, memory= memory)\n",
        "agent.run('What is are some of the high-fiber foods?')"
      ],
      "metadata": {
        "colab": {
          "base_uri": "https://localhost:8080/",
          "height": 374
        },
        "id": "6-z-eAEm6ydf",
        "outputId": "e4d437ba-4c02-41e7-b84c-7c23f59b34a1"
      },
      "execution_count": 50,
      "outputs": [
        {
          "output_type": "stream",
          "name": "stdout",
          "text": [
            "\n",
            "\n",
            "\u001b[1m> Entering new AgentExecutor chain...\u001b[0m\n",
            "\u001b[32;1m\u001b[1;3m I need to research what the high-fiber foods are.\n",
            "Action: Wikipedia\n",
            "Action Input: High-fiber foods\u001b[0m\n",
            "Observation: \u001b[36;1m\u001b[1;3mPage: Dietary fiber\n",
            "Summary: Dietary fiber (in Commonwealth English fibre) or roughage is the portion of plant-derived food that cannot be completely broken down by human digestive enzymes. Dietary fibers are diverse in chemical composition, and can be grouped generally by their solubility, viscosity, and fermentability, which affect how fibers are processed in the body. Dietary fiber has two main components: soluble fiber and insoluble fiber, which are components of plant-based foods, such as legumes, whole grains and cereals, vegetables, fruits, and nuts or seeds. A diet high in regular fiber consumption is generally associated with supporting health and lowering the risk of several diseases. Dietary fiber consists of non-starch polysaccharides and other plant components such as cellulose, resistant starch, resistant dextrins, inulin, lignins, chitins (in fungi), pectins, beta-glucans, and oligosaccharides.Food sources of dietary fiber have traditionally been divided according to whether they provide soluble or insoluble fiber. Plant foods contain both types of fiber in varying amounts, according to the fiber characteristics of viscosity and fermentability. Advantages of consuming fiber depend upon which type of fiber is consumed and which benefits may result in the gastrointestinal system. Bulking fibers – such as cellulose and hemicellulose (including psyllium) – absorb and hold water, promoting regularity. Viscous fibers – such as beta-glucan and psyllium – thicken the fecal mass. Fermentable fibers – such as resistant starch, xanthan gum, and inulin – feed the bacteria and microbiota of the large intestine, and are metabolized to yield short-chain fatty acids, which have diverse roles in gastrointestinal health.Soluble fiber (fermentable fiber or prebiotic fiber) – which dissolves in water – is generally fermented in the colon into gases and physiologically active by-products, such as short-chain fatty acids produced in the colon by gut bacteria. Examples are beta-glucans (in oats, barley, and mushrooms) and raw guar gum. Psyllium – a soluble, viscous, nonfermented fiber – is a bulking fiber that retains water as it moves through the digestive system, easing defecation. Soluble fiber is generally viscous and delays gastric emptying which, in humans, can result in an extended feeling of fullness. Inulin (in chicory root), wheat dextrin, oligosaccharides, and resistant starches (in legumes and bananas), are soluble non-viscous fibers. Regular intake of soluble fibers, such as beta-glucans from oats or barley, has been established to lower blood levels of LDL cholesterol, a risk factor for cardiovascular diseases.Insoluble fiber – which does not dissolve in water – is inert to digestive enzymes in the upper gastrointestinal tract. Examples are wheat bran, cellulose, and lignin. Coarsely ground insoluble fiber triggers the secretion of mucus in the large intestine, providing bulking. Finely ground insoluble fiber does not have this effect and can actually have a constipating effect. Some forms of insoluble fiber, such as resistant starches, can be fermented in the colon.\n",
            "\n",
            "Page: Low-fiber/low-residue diet\n",
            "Summary: A low-residue diet is a diet intended to reduce certain constituents of the bowel, often with consequence for functional behaviour of the bowel. It may be prescribed for patients with ailments or functional gastrointestinal disorders mitigated by fewer and smaller bowel movements each day. \n",
            "The diet may be used as part of the bowel preparation before a diagnostic procedure such as colonoscopy or as a short-term therapy for acute stages of gastrointestinal illnesses such as Crohn's disease, diverticulitis, bowel obstruction, and ulcerative colitis. In addition, a low-residue diet is often prescribed  before and/or after abdominal surgery or cancer treatments.\n",
            "A low-fiber diet is a low-residue diet eliminating dietary fiber in particular. The terms are not always distinguished, but when they are, a low-residue diet wi\u001b[0m\n",
            "Thought:\u001b[32;1m\u001b[1;3m I now know the best high-fiber foods\n",
            "Final Answer: The best high-fiber foods include legumes, whole grains and cereals, vegetables, fruits, and nuts or seeds. Additionally, dietary fibers such as beta-glucans, resistant starch, xanthan gum, and inulin are beneficial for gastrointestinal health.\u001b[0m\n",
            "\n",
            "\u001b[1m> Finished chain.\u001b[0m\n"
          ]
        },
        {
          "output_type": "execute_result",
          "data": {
            "text/plain": [
              "'The best high-fiber foods include legumes, whole grains and cereals, vegetables, fruits, and nuts or seeds. Additionally, dietary fibers such as beta-glucans, resistant starch, xanthan gum, and inulin are beneficial for gastrointestinal health.'"
            ],
            "application/vnd.google.colaboratory.intrinsic+json": {
              "type": "string"
            }
          },
          "metadata": {},
          "execution_count": 50
        }
      ]
    },
    {
      "cell_type": "code",
      "source": [
        "from langchain.memory import ConversationBufferMemory\n",
        "\n",
        "memory = ConversationBufferMemory(memory_key='chat_history')\n",
        "\n",
        "agent = initialize_agent(\n",
        "    tools, \n",
        "    llm, \n",
        "    agent=AgentType.CONVERSATIONAL_REACT_DESCRIPTION, \n",
        "    verbose=True,\n",
        "    memory=memory\n",
        ")"
      ],
      "metadata": {
        "id": "5IlzwjtSsGoQ"
      },
      "execution_count": 51,
      "outputs": []
    },
    {
      "cell_type": "code",
      "source": [
        "agent.run('how much fiber should a healthy adult need?')"
      ],
      "metadata": {
        "colab": {
          "base_uri": "https://localhost:8080/",
          "height": 197
        },
        "id": "QuGbReSnsogy",
        "outputId": "ef380ddc-c503-497d-b75b-88209bf23d69"
      },
      "execution_count": 42,
      "outputs": [
        {
          "output_type": "stream",
          "name": "stdout",
          "text": [
            "\n",
            "\n",
            "\u001b[1m> Entering new AgentExecutor chain...\u001b[0m\n",
            "\u001b[32;1m\u001b[1;3mThought: Do I need to use a tool? No\n",
            "AI: A healthy adult should aim to consume at least 25 to 30 grams of fiber per day. This can come from a variety of sources, including fruits, vegetables, whole grains, beans, and nuts. Adequate fiber intake can help regulate digestion, lower cholesterol levels, and reduce the risk of certain diseases.\u001b[0m\n",
            "\n",
            "\u001b[1m> Finished chain.\u001b[0m\n"
          ]
        },
        {
          "output_type": "execute_result",
          "data": {
            "text/plain": [
              "'A healthy adult should aim to consume at least 25 to 30 grams of fiber per day. This can come from a variety of sources, including fruits, vegetables, whole grains, beans, and nuts. Adequate fiber intake can help regulate digestion, lower cholesterol levels, and reduce the risk of certain diseases.'"
            ],
            "application/vnd.google.colaboratory.intrinsic+json": {
              "type": "string"
            }
          },
          "metadata": {},
          "execution_count": 42
        }
      ]
    },
    {
      "cell_type": "code",
      "source": [
        "agent.run('how do I get so much fiber into my diet?')"
      ],
      "metadata": {
        "colab": {
          "base_uri": "https://localhost:8080/",
          "height": 318
        },
        "id": "Y_CnGLBEs1E2",
        "outputId": "743c0e8f-fd66-4f37-89d6-6f98bd66b67b"
      },
      "execution_count": 43,
      "outputs": [
        {
          "output_type": "stream",
          "name": "stdout",
          "text": [
            "\n",
            "\n",
            "\u001b[1m> Entering new AgentExecutor chain...\u001b[0m\n",
            "\u001b[32;1m\u001b[1;3mThought: Do I need to use a tool? No\n",
            "AI: There are many ways to increase your fiber intake. Here are some tips:\n",
            "- Start your day with a high-fiber breakfast cereal or oatmeal.\n",
            "- Snack on fruits and vegetables throughout the day.\n",
            "- Choose whole grain breads, pasta, and rice instead of their refined counterparts.\n",
            "- Add beans or lentils to soups, stews, and salads.\n",
            "- Incorporate nuts and seeds into your diet, such as almond butter on toast or chia seeds in a smoothie.\n",
            "By making small changes to your diet, you can gradually increase your fiber intake and enjoy the many health benefits that come with it.\u001b[0m\n",
            "\n",
            "\u001b[1m> Finished chain.\u001b[0m\n"
          ]
        },
        {
          "output_type": "execute_result",
          "data": {
            "text/plain": [
              "'There are many ways to increase your fiber intake. Here are some tips:\\n- Start your day with a high-fiber breakfast cereal or oatmeal.\\n- Snack on fruits and vegetables throughout the day.\\n- Choose whole grain breads, pasta, and rice instead of their refined counterparts.\\n- Add beans or lentils to soups, stews, and salads.\\n- Incorporate nuts and seeds into your diet, such as almond butter on toast or chia seeds in a smoothie.\\nBy making small changes to your diet, you can gradually increase your fiber intake and enjoy the many health benefits that come with it.'"
            ],
            "application/vnd.google.colaboratory.intrinsic+json": {
              "type": "string"
            }
          },
          "metadata": {},
          "execution_count": 43
        }
      ]
    },
    {
      "cell_type": "code",
      "source": [
        "from langchain.agents import Tool\n",
        "\n",
        "name = \"Food and Nutrition Database\"\n",
        "\n",
        "description= \"\"\"\n",
        "                useful for when you need to answer questions about macronutrients, micronutrients, digestion, \n",
        "                energy metabolism, dietary guidelines, meal planning, portion control, food storage, cooking techniques,\n",
        "                balanced nutrition, food labels, the five food groups, plant-based diets, and their benefits \"\"\"\n",
        "\n",
        "search_tool = Tool(\n",
        "    name=name,\n",
        "    func=qa.run,\n",
        "    description=description,\n",
        ")\n",
        "\n",
        "tools.append(search_tool)"
      ],
      "metadata": {
        "id": "ZvevIkmYsQlY"
      },
      "execution_count": 52,
      "outputs": []
    },
    {
      "cell_type": "code",
      "source": [
        "from langchain.experimental import plan_and_execute\n",
        "from langchain.experimental.plan_and_execute import (PlanAndExecute, load_agent_executor, load_chat_planner)\n",
        "\n",
        "memory = ConversationBufferMemory(memory_key= 'chat_history')\n",
        "planner = load_chat_planner(llm)\n",
        "executor = load_agent_executor(llm, tools, verbose= True)\n",
        "\n",
        "agent = PlanAndExecute(planner= planner, executor= executor, verbose= True, reduce_k_below_max_tokens= True)\n"
      ],
      "metadata": {
        "id": "ZZdP_Ig1YEmQ"
      },
      "execution_count": 53,
      "outputs": []
    },
    {
      "cell_type": "code",
      "source": [
        "agent.run('Is Vitamin-k found in carrots?')"
      ],
      "metadata": {
        "colab": {
          "base_uri": "https://localhost:8080/",
          "height": 1000
        },
        "id": "wasyXgC3uhpN",
        "outputId": "03272a91-cab5-442c-af51-d2205749d198"
      },
      "execution_count": 55,
      "outputs": [
        {
          "output_type": "stream",
          "name": "stdout",
          "text": [
            "\n",
            "\n",
            "\u001b[1m> Entering new PlanAndExecute chain...\u001b[0m\n",
            "steps=[Step(value='Research the nutrients found in carrots '), Step(value='Determine whether Vitamin-K is found in carrots '), Step(value=\"Given the above steps taken, please respond to the user's original question \\n\")]\n",
            "\n",
            "\u001b[1m> Entering new AgentExecutor chain...\u001b[0m\n",
            "\u001b[32;1m\u001b[1;3m\n",
            "Action:\n",
            "```\n",
            "{\n",
            "  \"action\": \"Wikipedia\",\n",
            "  \"action_input\": \"Nutrition in Carrots\"\n",
            "}\n",
            "```\n",
            "\u001b[0m\n",
            "Observation: \u001b[36;1m\u001b[1;3mPage: Carrot\n",
            "Summary: The carrot (Daucus carota subsp. sativus) is a root vegetable, typically orange in color, though purple, black, red, white, and yellow cultivars exist, all of which are domesticated forms of the wild carrot, Daucus carota, native to Europe and Southwestern Asia. The plant probably originated in Persia and was originally cultivated for its leaves and seeds. The most commonly eaten part of the plant is the taproot, although the stems and leaves are also eaten. The domestic carrot has been selectively bred for its enlarged, more palatable, less woody-textured taproot.\n",
            "The carrot is a biennial plant in the umbellifer family, Apiaceae. At first, it grows a rosette of leaves while building up the enlarged taproot. Fast-growing cultivars mature within three months (90 days) of sowing the seed, while slower-maturing cultivars need a month longer (120 days). The roots contain high quantities of alpha- and beta-carotene, and are a good source of vitamin A, vitamin K, and vitamin B6.\n",
            "The United Nations Food and Agriculture Organization (FAO) reports that world production of carrots and turnips (these plants are combined by the FAO) for 2020 was 41 million tonnes, with over 44% of the world total grown in China. Carrots are commonly consumed raw or cooked in various cuisines.\n",
            "\n",
            "Page: Diet (nutrition)\n",
            "Summary: In nutrition, diet is the sum of food consumed by a person or other organism.\n",
            "The word diet often implies the use of specific intake of nutrition for health or weight-management reasons (with the two often being related). Although humans are omnivores, each culture and each person holds some food preferences or some food taboos. This may be due to personal tastes or ethical reasons. Individual dietary choices may be more or less healthy.\n",
            "Complete nutrition requires ingestion and absorption of vitamins, minerals, essential amino acids from protein and essential fatty acids from fat-containing food, also food energy in the form of carbohydrate, protein, and fat. Dietary habits and choices play a significant role in the quality of life, health and longevity.\n",
            "\n",
            "\n",
            "\n",
            "Page: Carrot juice\n",
            "Summary: Carrot juice is juice produced from carrots.\u001b[0m\n",
            "Thought:\u001b[32;1m\u001b[1;3m I have enough facts to provide a helpful response\n",
            "Action:\n",
            "```\n",
            "{\n",
            "  \"action\": \"Final Answer\",\n",
            "  \"action_input\": \"Carrots contain Vitamins A and C, folate, iron, magnesium, and Vitamin K. A serving size is 1/2 cup cooked or a small glass of 100% vegetable juice.\"\n",
            "}\n",
            "```\n",
            "\n",
            "\u001b[0m\n",
            "\n",
            "\u001b[1m> Finished chain.\u001b[0m\n",
            "*****\n",
            "\n",
            "Step: Research the nutrients found in carrots \n",
            "\n",
            "Response: Carrots contain Vitamins A and C, folate, iron, magnesium, and Vitamin K. A serving size is 1/2 cup cooked or a small glass of 100% vegetable juice.\n",
            "\n",
            "\u001b[1m> Entering new AgentExecutor chain...\u001b[0m\n",
            "\u001b[32;1m\u001b[1;3m\n",
            "Action:\n",
            "```\n",
            "{\n",
            "  \"action\": \"Food and Nutrition Database\",\n",
            "  \"action_input\": \"Vitamin K in carrots\"\n",
            "}\n",
            "```\n",
            "\u001b[0m\n",
            "Observation: \u001b[33;1m\u001b[1;3m Carrots contain vitamin K.\u001b[0m\n",
            "Thought:\u001b[32;1m\u001b[1;3m I have the answer I need, I will provide it as the final answer\n",
            "\n",
            "Action:\n",
            "```\n",
            "{\n",
            "  \"action\": \"Final Answer\",\n",
            "  \"action_input\": \"Yes, carrots contain vitamin K.\"\n",
            "}\n",
            "```\n",
            "\n",
            "\u001b[0m\n",
            "\n",
            "\u001b[1m> Finished chain.\u001b[0m\n",
            "*****\n",
            "\n",
            "Step: Determine whether Vitamin-K is found in carrots \n",
            "\n",
            "Response: Yes, carrots contain vitamin K.\n",
            "\n",
            "\u001b[1m> Entering new AgentExecutor chain...\u001b[0m\n",
            "\u001b[32;1m\u001b[1;3m\n",
            "Action:\n",
            "```\n",
            "{\n",
            "  \"action\": \"Final Answer\",\n",
            "  \"action_input\": \"Carrots contain Vitamins A and C, folate, iron, magnesium, and Vitamin K. A serving size is 1/2 cup cooked or a small glass of 100% vegetable juice.\"\n",
            "}\n",
            "```\n",
            "\n",
            "\u001b[0m\n",
            "\n",
            "\u001b[1m> Finished chain.\u001b[0m\n",
            "*****\n",
            "\n",
            "Step: Given the above steps taken, please respond to the user's original question \n",
            "\n",
            "\n",
            "Response: Carrots contain Vitamins A and C, folate, iron, magnesium, and Vitamin K. A serving size is 1/2 cup cooked or a small glass of 100% vegetable juice.\n",
            "\u001b[1m> Finished chain.\u001b[0m\n"
          ]
        },
        {
          "output_type": "execute_result",
          "data": {
            "text/plain": [
              "'Carrots contain Vitamins A and C, folate, iron, magnesium, and Vitamin K. A serving size is 1/2 cup cooked or a small glass of 100% vegetable juice.'"
            ],
            "application/vnd.google.colaboratory.intrinsic+json": {
              "type": "string"
            }
          },
          "metadata": {},
          "execution_count": 55
        }
      ]
    },
    {
      "cell_type": "code",
      "source": [
        "agent.run('I have aneamia so how do I increase my iron consumption?')"
      ],
      "metadata": {
        "colab": {
          "base_uri": "https://localhost:8080/",
          "height": 1000
        },
        "id": "Z6uCXNDPu__k",
        "outputId": "8522368e-cd80-43cf-ca85-3a4a9a8f1b67"
      },
      "execution_count": 59,
      "outputs": [
        {
          "output_type": "stream",
          "name": "stdout",
          "text": [
            "\n",
            "\n",
            "\u001b[1m> Entering new PlanAndExecute chain...\u001b[0m\n",
            "steps=[Step(value='Consult a physician to determine the cause of aneamia'), Step(value='Get a blood test to confirm diagnosis and determine the severity of aneamia'), Step(value='Based on the severity of the aneamia, determine the appropriate treatment plan to increase iron levels'), Step(value='Follow the treatment plan provided by the physician'), Step(value='Monitor iron levels to ensure they stay within healthy range'), Step(value=\"Given the above steps taken, please respond to the user's original question by recommending dietary sources of iron as well as iron supplements if prescribed by the physician.\\n\")]\n",
            "\n",
            "\u001b[1m> Entering new AgentExecutor chain...\u001b[0m\n",
            "\u001b[32;1m\u001b[1;3m\n",
            "Action:\n",
            "```\n",
            "{\n",
            "  \"action\": \"Wikipedia\",\n",
            "  \"action_input\": \"Anaemia\"\n",
            "}\n",
            "```\n",
            "\u001b[0m\n",
            "Observation: \u001b[36;1m\u001b[1;3mPage: Anemia\n",
            "Summary: Anemia or anaemia (British English) is a blood disorder in which the blood has a reduced ability to carry oxygen due to a lower than normal number of red blood cells, or a reduction in the amount of hemoglobin. \n",
            "The name is derived from Ancient Greek: ἀναιμία anaimia, meaning 'lack of blood', from ἀν- an-, 'not' and αἷμα haima, 'blood'.\n",
            "When anemia comes on slowly, the symptoms are often vague, such as tiredness, weakness, shortness of breath, headaches, and a reduced ability to exercise. When anemia is acute, symptoms may include confusion, feeling like one is going to pass out, loss of consciousness, and increased thirst. Anemia must be significant before a person becomes noticeably pale. Symptoms of anemia depend on how quickly hemoglobin decreases. Additional symptoms may occur depending on the underlying cause. Preoperative anemia can increase the risk of needing a blood transfusion following surgery. Anemia can be temporary or long term and can range from mild to severe.Anemia can be caused by blood loss, decreased red blood cell production, and increased red blood cell breakdown. Causes of bleeding include bleeding due to inflammation of the stomach or intestines, bleeding from surgery, serious injury, or blood donation. Causes of decreased production include iron deficiency, vitamin B12 deficiency, thalassemia and a number of bone marrow tumors. Causes of increased breakdown include genetic disorders such as sickle cell anemia, infections such as malaria, and certain autoimmune diseases. Anemia can also be classified based on the size of the red blood cells and amount of hemoglobin in each cell. If the cells are small, it is called microcytic anemia; if they are large, it is called macrocytic anemia; and if they are normal sized, it is called normocytic anemia. The diagnosis of anemia in men is based on a hemoglobin of less than 130 to 140 g/L (13 to 14 g/dL); in women, it is less than 120 to 130 g/L (12 to 13 g/dL). Further testing is then required to determine the cause.A large number of patients diagnosed with anemia of chronic disease present with no active inflammation or dietary issues. These include many with reduced limb loading, such as spinal cord injured patients, astronauts, elderly people with limited mobility, bed-bound and experimental bed-rest subjects.Certain groups of individuals, such as pregnant women, benefit from the use of iron pills for prevention. Dietary supplementation, without determining the specific cause, is not recommended. The use of blood transfusions is typically based on a person's signs and symptoms. In those without symptoms, they are not recommended unless hemoglobin levels are less than 60 to 80 g/L (6 to 8 g/dL). These recommendations may also apply to some people with acute bleeding. Erythropoiesis-stimulating agents are only recommended in those with severe anemia.Anemia is the most common blood disorder, affecting about a third of the global population. Iron-deficiency anemia affects nearly 1 billion people. In 2013, anemia due to iron deficiency resulted in about 183,000 deaths – down from 213,000 deaths in 1990. This condition is most prevalent in children with also an above average prevalence in elderly and women of reproductive age (especially during pregnancy).Anemia is one of the six WHO global nutrition targets for 2025 and for diet-related global targets endorsed by World Health Assembly in 2012 and 2013. Efforts to reach global targets contribute to reaching Sustainable Development Goals (SDGs), with anemia as one of the targets in SDG 2 for achieving zero world hunger.\n",
            "\n",
            "\n",
            "\n",
            "Page: Sickle cell disease\n",
            "Summary: Sickle cell disease (SCD) is a group of blood disorders typically inherited. The most common type is known as sickle cell anemia. It results in an abnormality in the oxygen-carrying protein haemoglobin found in red blood cells. This leads to a rigid, sickle-like shape under certain circumstances. Problems in sickle cell disease typically begi\u001b[0m\n",
            "Thought:\u001b[32;1m\u001b[1;3m I have enough information to respond to the human. \n",
            "Action: \n",
            "```\n",
            "{\n",
            "  \"action\": \"Final Answer\",\n",
            "  \"action_input\": \"It is important to consult with a doctor or nutritionist to determine the cause of anemia, as it can be caused by a variety of factors such as blood loss, decreased red blood cell production, and increased red blood cell breakdown. Additionally, dietary restrictions, lifestyle or cultural factors, and cost should be taken into consideration when deciding whether or not to switch to a vegan diet.\"\n",
            "}\n",
            "```\n",
            "\n",
            "\u001b[0m\n",
            "\n",
            "\u001b[1m> Finished chain.\u001b[0m\n",
            "*****\n",
            "\n",
            "Step: Consult a physician to determine the cause of aneamia\n",
            "\n",
            "Response: It is important to consult with a doctor or nutritionist to determine the cause of anemia, as it can be caused by a variety of factors such as blood loss, decreased red blood cell production, and increased red blood cell breakdown. Additionally, dietary restrictions, lifestyle or cultural factors, and cost should be taken into consideration when deciding whether or not to switch to a vegan diet.\n",
            "\n",
            "\u001b[1m> Entering new AgentExecutor chain...\u001b[0m\n",
            "\u001b[32;1m\u001b[1;3m\n",
            "Action: \n",
            "```\n",
            "{\n",
            "  \"action\": \"Wikipedia\",\n",
            "  \"action_input\": \"Anemia\"\n",
            "}\n",
            "```\n",
            "\n",
            "\u001b[0m\n",
            "Observation: \u001b[36;1m\u001b[1;3mPage: Anemia\n",
            "Summary: Anemia or anaemia (British English) is a blood disorder in which the blood has a reduced ability to carry oxygen due to a lower than normal number of red blood cells, or a reduction in the amount of hemoglobin. \n",
            "The name is derived from Ancient Greek: ἀναιμία anaimia, meaning 'lack of blood', from ἀν- an-, 'not' and αἷμα haima, 'blood'.\n",
            "When anemia comes on slowly, the symptoms are often vague, such as tiredness, weakness, shortness of breath, headaches, and a reduced ability to exercise. When anemia is acute, symptoms may include confusion, feeling like one is going to pass out, loss of consciousness, and increased thirst. Anemia must be significant before a person becomes noticeably pale. Symptoms of anemia depend on how quickly hemoglobin decreases. Additional symptoms may occur depending on the underlying cause. Preoperative anemia can increase the risk of needing a blood transfusion following surgery. Anemia can be temporary or long term and can range from mild to severe.Anemia can be caused by blood loss, decreased red blood cell production, and increased red blood cell breakdown. Causes of bleeding include bleeding due to inflammation of the stomach or intestines, bleeding from surgery, serious injury, or blood donation. Causes of decreased production include iron deficiency, vitamin B12 deficiency, thalassemia and a number of bone marrow tumors. Causes of increased breakdown include genetic disorders such as sickle cell anemia, infections such as malaria, and certain autoimmune diseases. Anemia can also be classified based on the size of the red blood cells and amount of hemoglobin in each cell. If the cells are small, it is called microcytic anemia; if they are large, it is called macrocytic anemia; and if they are normal sized, it is called normocytic anemia. The diagnosis of anemia in men is based on a hemoglobin of less than 130 to 140 g/L (13 to 14 g/dL); in women, it is less than 120 to 130 g/L (12 to 13 g/dL). Further testing is then required to determine the cause.A large number of patients diagnosed with anemia of chronic disease present with no active inflammation or dietary issues. These include many with reduced limb loading, such as spinal cord injured patients, astronauts, elderly people with limited mobility, bed-bound and experimental bed-rest subjects.Certain groups of individuals, such as pregnant women, benefit from the use of iron pills for prevention. Dietary supplementation, without determining the specific cause, is not recommended. The use of blood transfusions is typically based on a person's signs and symptoms. In those without symptoms, they are not recommended unless hemoglobin levels are less than 60 to 80 g/L (6 to 8 g/dL). These recommendations may also apply to some people with acute bleeding. Erythropoiesis-stimulating agents are only recommended in those with severe anemia.Anemia is the most common blood disorder, affecting about a third of the global population. Iron-deficiency anemia affects nearly 1 billion people. In 2013, anemia due to iron deficiency resulted in about 183,000 deaths – down from 213,000 deaths in 1990. This condition is most prevalent in children with also an above average prevalence in elderly and women of reproductive age (especially during pregnancy).Anemia is one of the six WHO global nutrition targets for 2025 and for diet-related global targets endorsed by World Health Assembly in 2012 and 2013. Efforts to reach global targets contribute to reaching Sustainable Development Goals (SDGs), with anemia as one of the targets in SDG 2 for achieving zero world hunger.\n",
            "\n",
            "\n",
            "\n",
            "Page: Aplastic anemia\n",
            "Summary: Aplastic anemia is a severe hematologic condition in which the body fails to make blood cells in sufficient numbers. Aplastic anemia is associated with cancer and various cancer syndromes. Blood cells are produced in the bone marrow by stem cells that reside there. Aplastic anemia causes a deficiency of all blood cell types: red blood cells, whit\u001b[0m\n",
            "Thought:\u001b[32;1m\u001b[1;3m I know what to respond\n",
            "Action:\n",
            "```\n",
            "{\n",
            "  \"action\": \"Final Answer\",\n",
            "  \"action_input\": \"Aplastic anemia is a severe hematologic condition in which the body fails to make blood cells in sufficient numbers. It is important to consult a physician to determine the cause of anemia and to get a blood test to confirm diagnosis and determine the severity.\"\n",
            "}\n",
            "```\n",
            "\u001b[0m\n",
            "\n",
            "\u001b[1m> Finished chain.\u001b[0m\n",
            "*****\n",
            "\n",
            "Step: Get a blood test to confirm diagnosis and determine the severity of aneamia\n",
            "\n",
            "Response: Aplastic anemia is a severe hematologic condition in which the body fails to make blood cells in sufficient numbers. It is important to consult a physician to determine the cause of anemia and to get a blood test to confirm diagnosis and determine the severity.\n",
            "\n",
            "\u001b[1m> Entering new AgentExecutor chain...\u001b[0m\n",
            "\u001b[32;1m\u001b[1;3m\n",
            "Action:\n",
            "```\n",
            "{\n",
            "  \"action\": \"Wikipedia\",\n",
            "  \"action_input\": \"Iron deficiency anemia treatment\"\n",
            "}\n",
            "```\n",
            "\u001b[0m\n",
            "Observation: \u001b[36;1m\u001b[1;3mPage: Iron-deficiency anemia\n",
            "Summary: Iron-deficiency anemia is anemia caused by a lack of iron. Anemia is defined as a decrease in the number of red blood cells or the amount of hemoglobin in the blood. When onset is slow, symptoms are often vague such as feeling tired, weak, short of breath, or having decreased ability to exercise. Anemia that comes on quickly often has more severe symptoms, including confusion, feeling like one is going to pass out or increased thirst. Anemia is typically significant before a person becomes noticeably pale. Children with iron deficiency anemia may have problems with growth and development. There may be additional symptoms depending on the underlying cause.Iron-deficiency anemia is caused by blood loss, insufficient dietary intake, or poor absorption of iron from food. Sources of blood loss can include heavy periods, childbirth, uterine fibroids, stomach ulcers, colon cancer, and urinary tract bleeding. Poor absorption of iron from food may occur as a result of an intestinal disorder such as inflammatory bowel disease or celiac disease, or surgery such as a gastric bypass. In the developing world, parasitic worms, malaria, and HIV/AIDS increase the risk of iron deficiency anemia. Diagnosis is confirmed by blood tests.Iron deficiency anemia can be prevented by eating a diet containing sufficient amounts of iron or by iron supplementation. Foods high in iron include meat, nuts, and foods made with iron-fortified flour. Treatment may include dietary changes and dealing with underlying causes, for example medical treatment for parasites or surgery for ulcers. Iron supplements and vitamin C may be recommended. Severe cases may be treated with blood transfusions or iron injections.Iron-deficiency anemia affected about 1.48 billion people in 2015. A lack of dietary iron is estimated to cause approximately half of all anemia cases globally. Women and young children are most commonly affected. In 2015, anemia due to iron deficiency resulted in about 54,000 deaths – down from 213,000 deaths in 1990.\n",
            "\n",
            "Page: Iron deficiency\n",
            "Summary: Iron deficiency, or sideropenia, is the state in which a body lacks enough iron to supply its needs. Iron is present in all cells in the human body and has several vital functions, such as carrying oxygen to the tissues from the lungs as a key component of the hemoglobin protein, acting as a transport medium for electrons within the cells in the form of cytochromes, and facilitating oxygen enzyme reactions in various tissues. Too little iron can interfere with these vital functions and lead to morbidity and death.Total body iron averages approximately 3.8 g in men and 2.3 g in women. In blood plasma, iron is carried tightly bound to the protein transferrin. There are several mechanisms that control iron metabolism and safeguard against iron deficiency. The main regulatory mechanism is situated in the gastrointestinal tract. The majority of iron absorption occurs in the duodenum, the first section of the small intestine. A number of dietary factors may affect iron absorption. When loss of iron is not sufficiently compensated by intake of iron from the diet, a state of iron deficiency develops over time. When this state is uncorrected, it leads to iron-deficiency anemia, a common type of anemia. Before anemia occurs, the medical condition of iron deficiency without anemia is called latent iron deficiency (LID).\n",
            "Anemia is a condition characterized by inadequate red blood cells (erythrocytes) or hemoglobin. When the body lacks sufficient amounts of iron, production of the protein hemoglobin is reduced. Hemoglobin binds to oxygen, enabling red blood cells to supply oxygenated blood throughout the body. Women of child-bearing age, children, and people with poor diet are most susceptible to the disease. Most cases of iron-deficiency anemia are mild, but if not treated can cause problems like an irregular heartbeat, pregnancy complications, and delayed growth in infants and children\u001b[0m\n",
            "Thought:\u001b[32;1m\u001b[1;3m I know what to respond\n",
            "Action:\n",
            "```\n",
            "{\n",
            "  \"action\": \"Final Answer\",\n",
            "  \"action_input\": \"Treating iron deficiency anemia typically involves increasing iron intake through dietary or supplemental sources. It is important to consult a physician to determine the cause of anemia and to get a blood test to confirm diagnosis and determine the severity, as the severity of the anemia will determine the appropriate treatment plan.\"\n",
            "}\n",
            "```\n",
            "\n",
            "\u001b[0m\n",
            "\n",
            "\u001b[1m> Finished chain.\u001b[0m\n",
            "*****\n",
            "\n",
            "Step: Based on the severity of the aneamia, determine the appropriate treatment plan to increase iron levels\n",
            "\n",
            "Response: Treating iron deficiency anemia typically involves increasing iron intake through dietary or supplemental sources. It is important to consult a physician to determine the cause of anemia and to get a blood test to confirm diagnosis and determine the severity, as the severity of the anemia will determine the appropriate treatment plan.\n",
            "\n",
            "\u001b[1m> Entering new AgentExecutor chain...\u001b[0m\n",
            "\u001b[32;1m\u001b[1;3mAction:\n",
            "```\n",
            "{\n",
            "  \"action\": \"Final Answer\",\n",
            "  \"action_input\": \"It is important to follow the treatment plan provided by the physician as advised to treat iron deficiency anemia.\"\n",
            "}\n",
            "```\n",
            "\u001b[0m\n",
            "\n",
            "\u001b[1m> Finished chain.\u001b[0m\n",
            "*****\n",
            "\n",
            "Step: Follow the treatment plan provided by the physician\n",
            "\n",
            "Response: It is important to follow the treatment plan provided by the physician as advised to treat iron deficiency anemia.\n",
            "\n",
            "\u001b[1m> Entering new AgentExecutor chain...\u001b[0m\n",
            "\u001b[32;1m\u001b[1;3m\n",
            "Action:\n",
            "```\n",
            "{\n",
            "  \"action\": \"Wikipedia\",\n",
            "  \"action_input\": \"Iron levels in humans\"\n",
            "}\n",
            "```\n",
            "\n",
            "\u001b[0m\n",
            "Observation: \u001b[36;1m\u001b[1;3mPage: Human iron metabolism\n",
            "Summary: Human iron metabolism is the set of chemical reactions that maintain human homeostasis of iron at the systemic and cellular level.  Iron is both necessary to the body and potentially toxic. Controlling iron levels in the body is a critically important part of many aspects of human health and disease. Hematologists have been especially interested in systemic iron metabolism, because iron is essential for red blood cells, where most of the human body's iron is contained. Understanding iron metabolism is also important for understanding diseases of iron overload, such as hereditary hemochromatosis, and iron deficiency, such as iron-deficiency anemia.\n",
            "\n",
            "Page: Iron\n",
            "Summary: Iron is a chemical element with the symbol Fe (from Latin  ferrum 'iron') and atomic number 26. It is a metal that belongs to the first transition series and group 8 of the periodic table. It is, by mass, the most common element on Earth, just ahead of oxygen (32.1% and 30.1%, respectively), forming much of Earth's outer and inner core. It is the fourth most common element in the Earth's crust, being mainly deposited by meteorites in its metallic state, with its ores also being found there.\n",
            "Extracting usable metal from iron ores requires kilns or furnaces capable of reaching 1,500 °C (2,730 °F) or higher, about 500 °C (932 °F) higher than that required to smelt copper. Humans started to master that process in Eurasia during the 2nd millennium BCE and the use of iron tools and weapons began to displace copper alloys—in some regions, only around 1200 BCE. That event is considered the transition from the Bronze Age to the Iron Age. In the modern world, iron alloys, such as steel, stainless steel, cast iron and special steels, are by far the most common industrial metals, due to their mechanical properties and low cost. The iron and steel industry is thus very important economically, and iron is the cheapest metal, with a price of a few dollars per kilogram or pound.\n",
            "Pristine and smooth pure iron surfaces are a mirror-like silvery-gray. Iron reacts readily with oxygen and water to produce brown-to-black hydrated iron oxides, commonly known as rust. Unlike the oxides of some other metals that form passivating layers, rust occupies more volume than the metal and thus flakes off, exposing more fresh surfaces for corrosion. High-purity irons (e.g. electrolytic iron) are more resistant to corrosion.\n",
            "The body of an adult human contains about 4 grams (0.005% body weight) of iron, mostly in hemoglobin and myoglobin. These two proteins play essential roles in vertebrate metabolism, respectively oxygen transport by blood and oxygen storage in muscles. To maintain the necessary levels, human iron metabolism requires a minimum of iron in the diet. Iron is also the metal at the active site of many important redox enzymes dealing with cellular respiration and oxidation and reduction in plants and animals.Chemically, the most common oxidation states of iron are iron(II) and iron(III). Iron shares many properties of other transition metals, including the other group 8 elements, ruthenium and osmium. Iron forms compounds in a wide range of oxidation states, −2 to +7. Iron also forms many coordination compounds; some of them, such as ferrocene, ferrioxalate, and Prussian blue have substantial industrial, medical, or research applications.\n",
            "\n",
            "Page: Iron overload\n",
            "Summary: Iron overload or haemochromatosis (also spelled hemochromatosis in American English) indicates increased total accumulation of iron in the body from any cause and resulting organ damage. The most important causes are hereditary haemochromatosis (HH or HHC), a genetic disorder, and transfusional iron overload, which can result from repeated blood transfusions.\u001b[0m\n",
            "Thought:\u001b[32;1m\u001b[1;3m\n",
            "I know what to respond\n",
            "\n",
            "Action:\n",
            "```\n",
            "{\n",
            "  \"action\": \"Final Answer\",\n",
            "  \"action_input\": \"Iron overload is a condition where the body accumulates too much iron, leading to organ damage. It can be caused by hereditary haemochromatosis, a genetic disorder, or transfusional iron overload from repeated blood transfusions.\"\n",
            "}\n",
            "```\n",
            "\n",
            "\u001b[0m\n",
            "\n",
            "\u001b[1m> Finished chain.\u001b[0m\n",
            "*****\n",
            "\n",
            "Step: Monitor iron levels to ensure they stay within healthy range\n",
            "\n",
            "Response: Iron overload is a condition where the body accumulates too much iron, leading to organ damage. It can be caused by hereditary haemochromatosis, a genetic disorder, or transfusional iron overload from repeated blood transfusions.\n",
            "\n",
            "\u001b[1m> Entering new AgentExecutor chain...\u001b[0m\n",
            "\u001b[32;1m\u001b[1;3m\n",
            "Action:\n",
            "```\n",
            "{\n",
            "  \"action\": \"Wikipedia\",\n",
            "  \"action_input\": \"Dietary sources of iron\"\n",
            "}\n",
            "```\n",
            "\u001b[0m\n",
            "Observation: \u001b[36;1m\u001b[1;3mPage: Spirulina (dietary supplement)\n",
            "Summary: Spirulina is a biomass of cyanobacteria (blue-green algae) that can be consumed by humans and animals. The three species are  Arthrospira platensis, A. fusiformis, and A. maxima.\n",
            "Cultivated worldwide, Arthrospira is used as a dietary supplement or whole food. It is also used as a feed supplement in the aquaculture, aquarium, and poultry industries.\n",
            "\n",
            "\n",
            "\n",
            "Page: Iron deficiency\n",
            "Summary: Iron deficiency, or sideropenia, is the state in which a body lacks enough iron to supply its needs. Iron is present in all cells in the human body and has several vital functions, such as carrying oxygen to the tissues from the lungs as a key component of the hemoglobin protein, acting as a transport medium for electrons within the cells in the form of cytochromes, and facilitating oxygen enzyme reactions in various tissues. Too little iron can interfere with these vital functions and lead to morbidity and death.Total body iron averages approximately 3.8 g in men and 2.3 g in women. In blood plasma, iron is carried tightly bound to the protein transferrin. There are several mechanisms that control iron metabolism and safeguard against iron deficiency. The main regulatory mechanism is situated in the gastrointestinal tract. The majority of iron absorption occurs in the duodenum, the first section of the small intestine. A number of dietary factors may affect iron absorption. When loss of iron is not sufficiently compensated by intake of iron from the diet, a state of iron deficiency develops over time. When this state is uncorrected, it leads to iron-deficiency anemia, a common type of anemia. Before anemia occurs, the medical condition of iron deficiency without anemia is called latent iron deficiency (LID).\n",
            "Anemia is a condition characterized by inadequate red blood cells (erythrocytes) or hemoglobin. When the body lacks sufficient amounts of iron, production of the protein hemoglobin is reduced. Hemoglobin binds to oxygen, enabling red blood cells to supply oxygenated blood throughout the body. Women of child-bearing age, children, and people with poor diet are most susceptible to the disease. Most cases of iron-deficiency anemia are mild, but if not treated can cause problems like an irregular heartbeat, pregnancy complications, and delayed growth in infants and children that could affect their cognitive development and their behavior.\n",
            "\n",
            "Page: Iron-deficiency anemia\n",
            "Summary: Iron-deficiency anemia is anemia caused by a lack of iron. Anemia is defined as a decrease in the number of red blood cells or the amount of hemoglobin in the blood. When onset is slow, symptoms are often vague such as feeling tired, weak, short of breath, or having decreased ability to exercise. Anemia that comes on quickly often has more severe symptoms, including confusion, feeling like one is going to pass out or increased thirst. Anemia is typically significant before a person becomes noticeably pale. Children with iron deficiency anemia may have problems with growth and development. There may be additional symptoms depending on the underlying cause.Iron-deficiency anemia is caused by blood loss, insufficient dietary intake, or poor absorption of iron from food. Sources of blood loss can include heavy periods, childbirth, uterine fibroids, stomach ulcers, colon cancer, and urinary tract bleeding. Poor absorption of iron from food may occur as a result of an intestinal disorder such as inflammatory bowel disease or celiac disease, or surgery such as a gastric bypass. In the developing world, parasitic worms, malaria, and HIV/AIDS increase the risk of iron deficiency anemia. Diagnosis is confirmed by blood tests.Iron deficiency anemia can be prevented by eating a diet containing sufficient amounts of iron or by iron supplementation. Foods high in iron include meat, nuts, and foods made with iron-fortified flour. Treatment may include dietary changes and dealing with underlying causes, for example medical treatment for parasites\u001b[0m\n",
            "Thought:\u001b[32;1m\u001b[1;3m I know what to respond\n",
            "Action:\n",
            "```\n",
            "{\n",
            "  \"action\": \"Final Answer\",\n",
            "  \"action_input\": \"It is important to consult a doctor or nutritionist for a personalized plan, as dietary sources of iron and iron supplements may be recommended depending on the severity of the anemia. Foods high in iron include meat, nuts, and foods made with iron-fortified flour.\"\n",
            "}\n",
            "```\n",
            "\n",
            "\u001b[0m\n",
            "\n",
            "\u001b[1m> Finished chain.\u001b[0m\n",
            "*****\n",
            "\n",
            "Step: Given the above steps taken, please respond to the user's original question by recommending dietary sources of iron as well as iron supplements if prescribed by the physician.\n",
            "\n",
            "\n",
            "Response: It is important to consult a doctor or nutritionist for a personalized plan, as dietary sources of iron and iron supplements may be recommended depending on the severity of the anemia. Foods high in iron include meat, nuts, and foods made with iron-fortified flour.\n",
            "\u001b[1m> Finished chain.\u001b[0m\n"
          ]
        },
        {
          "output_type": "execute_result",
          "data": {
            "text/plain": [
              "'It is important to consult a doctor or nutritionist for a personalized plan, as dietary sources of iron and iron supplements may be recommended depending on the severity of the anemia. Foods high in iron include meat, nuts, and foods made with iron-fortified flour.'"
            ],
            "application/vnd.google.colaboratory.intrinsic+json": {
              "type": "string"
            }
          },
          "metadata": {},
          "execution_count": 59
        }
      ]
    }
  ]
}